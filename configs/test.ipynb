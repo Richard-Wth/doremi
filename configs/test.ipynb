{
 "cells": [
  {
   "cell_type": "code",
   "execution_count": 1,
   "metadata": {},
   "outputs": [
    {
     "name": "stdout",
     "output_type": "stream",
     "text": [
      "随机生成的220个数字，总和为1：\n",
      "\n",
      "前5个数字：\n",
      "第1个数字: 0.0035229198\n",
      "第2个数字: 0.0046998472\n",
      "第3个数字: 0.0020028547\n",
      "第4个数字: 0.0018997602\n",
      "第5个数字: 0.0068394556\n",
      "\n",
      "...\n",
      "最后5个数字：\n",
      "第216个数字: 0.0053928960\n",
      "第217个数字: 0.0088812417\n",
      "第218个数字: 0.0062066899\n",
      "第219个数字: 0.0024192195\n",
      "第220个数字: 0.0024567360\n",
      "\n",
      "所有数字的总和: 0.9999999999999998\n",
      "总和是否等于1: True\n",
      "\n",
      "最小的数字: 0.0000017556\n",
      "最大的数字: 0.0093813095\n"
     ]
    }
   ],
   "source": [
    "import random\n",
    "\n",
    "def generate_random_parts(num_parts):\n",
    "    # 生成随机数\n",
    "    random_numbers = [random.random() for _ in range(num_parts)]\n",
    "    \n",
    "    # 计算总和\n",
    "    total = sum(random_numbers)\n",
    "    \n",
    "    # 归一化，使总和为1\n",
    "    normalized_numbers = [num / total for num in random_numbers]\n",
    "    \n",
    "    return normalized_numbers\n",
    "\n",
    "# 设置部分数量\n",
    "num_parts = 220\n",
    "\n",
    "# 生成随机部分\n",
    "parts = generate_random_parts(num_parts)\n",
    "\n"
   ]
  }
 ],
 "metadata": {
  "kernelspec": {
   "display_name": "doremi",
   "language": "python",
   "name": "python3"
  },
  "language_info": {
   "codemirror_mode": {
    "name": "ipython",
    "version": 3
   },
   "file_extension": ".py",
   "mimetype": "text/x-python",
   "name": "python",
   "nbconvert_exporter": "python",
   "pygments_lexer": "ipython3",
   "version": "3.10.14"
  }
 },
 "nbformat": 4,
 "nbformat_minor": 2
}
