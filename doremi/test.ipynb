{
 "cells": [
  {
   "cell_type": "markdown",
   "metadata": {},
   "source": [
    "## 查看训练数据的数量"
   ]
  },
  {
   "cell_type": "code",
   "execution_count": 1,
   "metadata": {},
   "outputs": [
    {
     "name": "stderr",
     "output_type": "stream",
     "text": [
      "/home/wth/anaconda3/envs/doremi/lib/python3.10/site-packages/tqdm/auto.py:21: TqdmWarning: IProgress not found. Please update jupyter and ipywidgets. See https://ipywidgets.readthedocs.io/en/stable/user_install.html\n",
      "  from .autonotebook import tqdm as notebook_tqdm\n"
     ]
    }
   ],
   "source": [
    "import logging\n",
    "from pathlib import Path\n",
    "import os\n",
    "import sys\n",
    "import json\n",
    "import numpy as np\n",
    "\n",
    "import datasets\n",
    "import torch\n",
    "\n",
    "import transformers\n",
    "from transformers import (\n",
    "    CONFIG_MAPPING,\n",
    "    AutoConfig,\n",
    "    AutoModelForCausalLM,\n",
    "    AutoTokenizer,\n",
    "    HfArgumentParser,\n",
    "    set_seed,\n",
    ")\n",
    "from transformers.trainer_utils import get_last_checkpoint\n",
    "from transformers.trainer_callback import TrainerState\n",
    "from transformers.trainer import TRAINER_STATE_NAME\n",
    "from transformers.utils import check_min_version\n",
    "from transformers.utils.versions import require_version\n",
    "from transformers.models.gpt2.configuration_gpt2 import GPT2Config\n",
    "\n",
    "from doremi.training_args import ModelArguments, DataTrainingArguments, FullTrainingArguments\n",
    "import doremi.dataloader as data_utils\n",
    "from doremi.trainer import DoReMiTrainer\n",
    "import doremi.models as doremi_models\n",
    "try:\n",
    "    from flash_attn.models.gpt_neox import gpt_neox_config_to_gpt2_config\n",
    "except Exception:\n",
    "    pass"
   ]
  },
  {
   "cell_type": "code",
   "execution_count": null,
   "metadata": {},
   "outputs": [],
   "source": [
    "dataset_dir = \"/home/wth/My_codes/doremi/data/slim_preprocessed/preprocessed\"\n",
    "domain_config_path = \"/home/wth/My_codes/doremi/configs/rp_baseline_50kvocab_nopack.json\"\n",
    "with open(domain_config_path, \"r\", encoding=\"utf-8\") as f:\n",
    "    domain_config = json.load(f)\n",
    "\n",
    "train_domain_weights_dict = domain_config[\"train_domain_weights\"]\n",
    "eval_domain_weights_dict = domain_config[\"eval_domain_weights\"]\n",
    "domain_list = list(sorted(train_domain_weights_dict.keys()))\n",
    "dataset_name = \"RedPajamaCommonCrawl\"\n",
    "cache_dir = \"/home/wth/My_codes/doremi/cache\"\n",
    "max_train_samples = None\n"
   ]
  },
  {
   "cell_type": "markdown",
   "metadata": {},
   "source": [
    "### 检查 DoReMiTrainer class 的功能"
   ]
  },
  {
   "cell_type": "code",
   "execution_count": 1,
   "metadata": {},
   "outputs": [
    {
     "name": "stderr",
     "output_type": "stream",
     "text": [
      "/home/wth/anaconda3/envs/doremi/lib/python3.10/site-packages/tqdm/auto.py:21: TqdmWarning: IProgress not found. Please update jupyter and ipywidgets. See https://ipywidgets.readthedocs.io/en/stable/user_install.html\n",
      "  from .autonotebook import tqdm as notebook_tqdm\n"
     ]
    }
   ],
   "source": [
    "import math\n",
    "import warnings\n",
    "import json\n",
    "import re\n",
    "from pathlib import Path\n",
    "import wandb\n",
    "import numpy as np\n",
    "from collections import defaultdict\n",
    "from tqdm import tqdm\n",
    "import torch\n",
    "import torch.distributed as dist\n",
    "from torch import nn\n",
    "from torch.optim.lr_scheduler import LRScheduler\n",
    "from torch.utils.data import DataLoader\n",
    "from datasets import IterableDataset\n",
    "from transformers import Trainer\n",
    "from transformers.utils import ExplicitEnum, is_torch_tpu_available\n",
    "from transformers.optimization import get_scheduler\n",
    "from transformers.utils import logging\n",
    "from transformers.trainer import is_sagemaker_mp_enabled\n",
    "from transformers.modeling_utils import unwrap_model\n",
    "from transformers.models.auto.modeling_auto import MODEL_FOR_CAUSAL_LM_MAPPING_NAMES\n",
    "from transformers.trainer_utils import (\n",
    "        has_length,\n",
    "        denumpify_detensorize,\n",
    "        EvalLoopOutput,\n",
    "        enable_full_determinism,\n",
    "        set_seed,\n",
    "        get_last_checkpoint,\n",
    "        PREFIX_CHECKPOINT_DIR\n",
    ")\n",
    "from transformers.trainer_pt_utils import find_batch_size\n",
    "\n",
    "from doremi.eval_datasets import get_eval_dataset"
   ]
  },
  {
   "cell_type": "code",
   "execution_count": 5,
   "metadata": {},
   "outputs": [
    {
     "name": "stdout",
     "output_type": "stream",
     "text": [
      "{'train_domain_weights': {'RedPajamaC4_4': 0.046629283524404826, 'RedPajamaArXiv_7': 0.00210244756631777, 'RedPajamaWikipedia_5': 0.00434940298422881, 'RedPajamaC4_6': 0.046731289066705956, 'RedPajamaC4_8': 0.04627651435728008, 'RedPajamaGithub_6': 0.004210562107207825, 'RedPajamaCommonCrawl_7': 0.036962841647729526, 'RedPajamaArXiv_4': 0.0021038643099608413, 'RedPajamaC4_2': 0.04665053467905089, 'RedPajamaStackExchange_6': 0.0042190625690662524, 'RedPajamaStackExchange_3': 0.004313984393152028, 'RedPajamaBook_1': 0.0017270105009038824, 'RedPajamaGithub_8': 0.004335235547798097, 'RedPajamaArXiv_3': 0.002106697797246984, 'RedPajamaWikipedia_1': 0.004389071806234805, 'RedPajamaArXiv_6': 0.0021265322082499815, 'RedPajamaGithub_9': 0.00421622908178011, 'RedPajamaBook_2': 0.0017270105009038824, 'RedPajamaWikipedia_2': 0.00434940298422881, 'RedPajamaStackExchange_5': 0.004251647672856892, 'RedPajamaStackExchange_2': 0.004221896056352395, 'RedPajamaC4_9': 0.04647627521095313, 'RedPajamaCommonCrawl_1': 0.036614322711533996, 'RedPajamaCommonCrawl_3': 0.036716328253835126, 'RedPajamaGithub_0': 0.004041969613682343, 'RedPajamaStackExchange_1': 0.004364987164302594, 'RedPajamaGithub_5': 0.004281399289361389, 'RedPajamaStackExchange_8': 0.004220479312709324, 'RedPajamaStackExchange_7': 0.004224729543638538, 'RedPajamaWikipedia_9': 0.0042913164948628875, 'RedPajamaArXiv_9': 0.0021038643099608413, 'RedPajamaGithub_2': 0.004090138897546767, 'RedPajamaBook_0': 0.001729843988190025, 'RedPajamaBook_9': 0.001729843988190025, 'RedPajamaArXiv_5': 0.00210244756631777, 'RedPajamaCommonCrawl_4': 0.036547735760309646, 'RedPajamaArXiv_2': 0.0021052810536039126, 'RedPajamaCommonCrawl_0': 0.036825417514351616, 'RedPajamaGithub_7': 0.004262981622001462, 'RedPajamaC4_1': 0.04688146389287151, 'RedPajamaWikipedia_6': 0.00436073693337338, 'RedPajamaCommonCrawl_5': 0.036642657584395416, 'RedPajamaBook_7': 0.0017227602699746685, 'RedPajamaWikipedia_3': 0.0044188234227393024, 'RedPajamaStackExchange_9': 0.004316817880438171, 'RedPajamaArXiv_1': 0.002119448490034625, 'RedPajamaWikipedia_8': 0.004298400213078244, 'RedPajamaWikipedia_4': 0.004237480236426179, 'RedPajamaCommonCrawl_6': 0.03675741381948419, 'RedPajamaStackExchange_0': 0.004251647672856892, 'RedPajamaGithub_4': 0.004255897903786106, 'RedPajamaC4_3': 0.046742623015850526, 'RedPajamaBook_5': 0.001719926782688526, 'RedPajamaStackExchange_4': 0.004265815109287604, 'RedPajamaGithub_1': 0.004265815109287604, 'RedPajamaC4_7': 0.04676670765778274, 'RedPajamaWikipedia_7': 0.0043550699588010945, 'RedPajamaBook_8': 0.0017255937572608112, 'RedPajamaCommonCrawl_9': 0.036682326406401414, 'RedPajamaBook_4': 0.0017185100390454547, 'RedPajamaArXiv_8': 0.0021038643099608413, 'RedPajamaCommonCrawl_8': 0.03644573021800851, 'RedPajamaGithub_3': 0.004224729543638538, 'RedPajamaC4_5': 0.04698771966610186, 'RedPajamaBook_6': 0.0017312607318330962, 'RedPajamaBook_3': 0.0017241770136177399, 'RedPajamaArXiv_0': 0.0021010308226746986, 'RedPajamaCommonCrawl_2': 0.036544902273023504, 'RedPajamaC4_0': 0.04662645003711868, 'RedPajamaWikipedia_0': 0.004274315571146032}, 'eval_domain_weights': {'RedPajamaArXiv': 0.02156634023275371, 'RedPajamaGithub': 0.040230040962482706, 'RedPajamaWikipedia': 0.04367522990532512, 'RedPajamaStackExchange': 0.04375661232129778, 'RedPajamaBook': 0.01285842172367957, 'RedPajamaC4': 0.4741068279847001, 'RedPajamaCommonCrawl': 0.18190326343488, '0': 0.18190326343488}}\n",
      "train domain weights dict: \n",
      "{'RedPajamaC4_4': 0.046629283524404826, 'RedPajamaArXiv_7': 0.00210244756631777, 'RedPajamaWikipedia_5': 0.00434940298422881, 'RedPajamaC4_6': 0.046731289066705956, 'RedPajamaC4_8': 0.04627651435728008, 'RedPajamaGithub_6': 0.004210562107207825, 'RedPajamaCommonCrawl_7': 0.036962841647729526, 'RedPajamaArXiv_4': 0.0021038643099608413, 'RedPajamaC4_2': 0.04665053467905089, 'RedPajamaStackExchange_6': 0.0042190625690662524, 'RedPajamaStackExchange_3': 0.004313984393152028, 'RedPajamaBook_1': 0.0017270105009038824, 'RedPajamaGithub_8': 0.004335235547798097, 'RedPajamaArXiv_3': 0.002106697797246984, 'RedPajamaWikipedia_1': 0.004389071806234805, 'RedPajamaArXiv_6': 0.0021265322082499815, 'RedPajamaGithub_9': 0.00421622908178011, 'RedPajamaBook_2': 0.0017270105009038824, 'RedPajamaWikipedia_2': 0.00434940298422881, 'RedPajamaStackExchange_5': 0.004251647672856892, 'RedPajamaStackExchange_2': 0.004221896056352395, 'RedPajamaC4_9': 0.04647627521095313, 'RedPajamaCommonCrawl_1': 0.036614322711533996, 'RedPajamaCommonCrawl_3': 0.036716328253835126, 'RedPajamaGithub_0': 0.004041969613682343, 'RedPajamaStackExchange_1': 0.004364987164302594, 'RedPajamaGithub_5': 0.004281399289361389, 'RedPajamaStackExchange_8': 0.004220479312709324, 'RedPajamaStackExchange_7': 0.004224729543638538, 'RedPajamaWikipedia_9': 0.0042913164948628875, 'RedPajamaArXiv_9': 0.0021038643099608413, 'RedPajamaGithub_2': 0.004090138897546767, 'RedPajamaBook_0': 0.001729843988190025, 'RedPajamaBook_9': 0.001729843988190025, 'RedPajamaArXiv_5': 0.00210244756631777, 'RedPajamaCommonCrawl_4': 0.036547735760309646, 'RedPajamaArXiv_2': 0.0021052810536039126, 'RedPajamaCommonCrawl_0': 0.036825417514351616, 'RedPajamaGithub_7': 0.004262981622001462, 'RedPajamaC4_1': 0.04688146389287151, 'RedPajamaWikipedia_6': 0.00436073693337338, 'RedPajamaCommonCrawl_5': 0.036642657584395416, 'RedPajamaBook_7': 0.0017227602699746685, 'RedPajamaWikipedia_3': 0.0044188234227393024, 'RedPajamaStackExchange_9': 0.004316817880438171, 'RedPajamaArXiv_1': 0.002119448490034625, 'RedPajamaWikipedia_8': 0.004298400213078244, 'RedPajamaWikipedia_4': 0.004237480236426179, 'RedPajamaCommonCrawl_6': 0.03675741381948419, 'RedPajamaStackExchange_0': 0.004251647672856892, 'RedPajamaGithub_4': 0.004255897903786106, 'RedPajamaC4_3': 0.046742623015850526, 'RedPajamaBook_5': 0.001719926782688526, 'RedPajamaStackExchange_4': 0.004265815109287604, 'RedPajamaGithub_1': 0.004265815109287604, 'RedPajamaC4_7': 0.04676670765778274, 'RedPajamaWikipedia_7': 0.0043550699588010945, 'RedPajamaBook_8': 0.0017255937572608112, 'RedPajamaCommonCrawl_9': 0.036682326406401414, 'RedPajamaBook_4': 0.0017185100390454547, 'RedPajamaArXiv_8': 0.0021038643099608413, 'RedPajamaCommonCrawl_8': 0.03644573021800851, 'RedPajamaGithub_3': 0.004224729543638538, 'RedPajamaC4_5': 0.04698771966610186, 'RedPajamaBook_6': 0.0017312607318330962, 'RedPajamaBook_3': 0.0017241770136177399, 'RedPajamaArXiv_0': 0.0021010308226746986, 'RedPajamaCommonCrawl_2': 0.036544902273023504, 'RedPajamaC4_0': 0.04662645003711868, 'RedPajamaWikipedia_0': 0.004274315571146032}\n",
      "eval domain weights dict: \n",
      "{'RedPajamaArXiv': 0.02156634023275371, 'RedPajamaGithub': 0.040230040962482706, 'RedPajamaWikipedia': 0.04367522990532512, 'RedPajamaStackExchange': 0.04375661232129778, 'RedPajamaBook': 0.01285842172367957, 'RedPajamaC4': 0.4741068279847001, 'RedPajamaCommonCrawl': 0.18190326343488, '0': 0.18190326343488}\n",
      "domain list: \n",
      "['RedPajamaArXiv_0', 'RedPajamaArXiv_1', 'RedPajamaArXiv_2', 'RedPajamaArXiv_3', 'RedPajamaArXiv_4', 'RedPajamaArXiv_5', 'RedPajamaArXiv_6', 'RedPajamaArXiv_7', 'RedPajamaArXiv_8', 'RedPajamaArXiv_9', 'RedPajamaBook_0', 'RedPajamaBook_1', 'RedPajamaBook_2', 'RedPajamaBook_3', 'RedPajamaBook_4', 'RedPajamaBook_5', 'RedPajamaBook_6', 'RedPajamaBook_7', 'RedPajamaBook_8', 'RedPajamaBook_9', 'RedPajamaC4_0', 'RedPajamaC4_1', 'RedPajamaC4_2', 'RedPajamaC4_3', 'RedPajamaC4_4', 'RedPajamaC4_5', 'RedPajamaC4_6', 'RedPajamaC4_7', 'RedPajamaC4_8', 'RedPajamaC4_9', 'RedPajamaCommonCrawl_0', 'RedPajamaCommonCrawl_1', 'RedPajamaCommonCrawl_2', 'RedPajamaCommonCrawl_3', 'RedPajamaCommonCrawl_4', 'RedPajamaCommonCrawl_5', 'RedPajamaCommonCrawl_6', 'RedPajamaCommonCrawl_7', 'RedPajamaCommonCrawl_8', 'RedPajamaCommonCrawl_9', 'RedPajamaGithub_0', 'RedPajamaGithub_1', 'RedPajamaGithub_2', 'RedPajamaGithub_3', 'RedPajamaGithub_4', 'RedPajamaGithub_5', 'RedPajamaGithub_6', 'RedPajamaGithub_7', 'RedPajamaGithub_8', 'RedPajamaGithub_9', 'RedPajamaStackExchange_0', 'RedPajamaStackExchange_1', 'RedPajamaStackExchange_2', 'RedPajamaStackExchange_3', 'RedPajamaStackExchange_4', 'RedPajamaStackExchange_5', 'RedPajamaStackExchange_6', 'RedPajamaStackExchange_7', 'RedPajamaStackExchange_8', 'RedPajamaStackExchange_9', 'RedPajamaWikipedia_0', 'RedPajamaWikipedia_1', 'RedPajamaWikipedia_2', 'RedPajamaWikipedia_3', 'RedPajamaWikipedia_4', 'RedPajamaWikipedia_5', 'RedPajamaWikipedia_6', 'RedPajamaWikipedia_7', 'RedPajamaWikipedia_8', 'RedPajamaWikipedia_9']\n",
      "sampling weights: \n",
      "tensor([0.0021, 0.0021, 0.0021, 0.0021, 0.0021, 0.0021, 0.0021, 0.0021, 0.0021,\n",
      "        0.0021, 0.0017, 0.0017, 0.0017, 0.0017, 0.0017, 0.0017, 0.0017, 0.0017,\n",
      "        0.0017, 0.0017, 0.0466, 0.0469, 0.0467, 0.0467, 0.0466, 0.0470, 0.0467,\n",
      "        0.0468, 0.0463, 0.0465, 0.0368, 0.0366, 0.0365, 0.0367, 0.0365, 0.0366,\n",
      "        0.0368, 0.0370, 0.0364, 0.0367, 0.0040, 0.0043, 0.0041, 0.0042, 0.0043,\n",
      "        0.0043, 0.0042, 0.0043, 0.0043, 0.0042, 0.0043, 0.0044, 0.0042, 0.0043,\n",
      "        0.0043, 0.0043, 0.0042, 0.0042, 0.0042, 0.0043, 0.0043, 0.0044, 0.0043,\n",
      "        0.0044, 0.0042, 0.0043, 0.0044, 0.0044, 0.0043, 0.0043])\n"
     ]
    }
   ],
   "source": [
    "domain_config_path = \"/home/wth/My_codes/doremi/configs/slim_baseline_50kvocab_nopack_bucket.json\"\n",
    "with open(domain_config_path, \"r\") as f:\n",
    "    domain_config = json.load(f)\n",
    "print(domain_config)\n",
    "train_domain_weights_dict = domain_config[\"train_domain_weights\"]\n",
    "eval_domain_weights_dict = domain_config[\"eval_domain_weights\"]\n",
    "domain_list = list(sorted(train_domain_weights_dict.keys()))\n",
    "sampling_weights = torch.tensor([train_domain_weights_dict[domain] for domain in domain_list])\n",
    "print(\"train domain weights dict: \")\n",
    "print(train_domain_weights_dict)\n",
    "print(\"eval domain weights dict: \")\n",
    "print(eval_domain_weights_dict)\n",
    "print(\"domain list: \")\n",
    "print(domain_list)\n",
    "print(\"sampling weights: \")\n",
    "print(sampling_weights)"
   ]
  },
  {
   "cell_type": "code",
   "execution_count": null,
   "metadata": {},
   "outputs": [],
   "source": []
  }
 ],
 "metadata": {
  "kernelspec": {
   "display_name": "doremi",
   "language": "python",
   "name": "python3"
  },
  "language_info": {
   "codemirror_mode": {
    "name": "ipython",
    "version": 3
   },
   "file_extension": ".py",
   "mimetype": "text/x-python",
   "name": "python",
   "nbconvert_exporter": "python",
   "pygments_lexer": "ipython3",
   "version": "3.10.14"
  }
 },
 "nbformat": 4,
 "nbformat_minor": 2
}
